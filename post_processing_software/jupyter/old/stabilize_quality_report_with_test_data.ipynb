{
 "cells": [
  {
   "cell_type": "markdown",
   "metadata": {},
   "source": [
    "時刻同期のアルゴリズムの正しさの検証のため、角速度にフレーム番号を記録したデータを作成し、処理の正しさを検証する"
   ]
  },
  {
   "cell_type": "markdown",
   "metadata": {},
   "source": [
    "生成するテストデータは、\n",
    "推定値をファイルから読むgetAngularVeelocityFromJsonに入力Jsonするデータと、\n",
    "ジャイロによる計測値を計測するsetMeasuredAngularVelocityに入力するJsonデータである"
   ]
  },
  {
   "cell_type": "markdown",
   "metadata": {},
   "source": [
    "getAngularVelocityFromJsonについて\n",
    "動画の横にあるC000X.jsonである。実在の動画の横に、偽のデータを作るのが良さそう。\n",
    "とりあえず今問題になっているC0003.MP4とする。\n",
    "\n",
    "JSONの生成は次のとおり。\n",
    "データの並びはx,yのシフトと、回転量だと思われる。\n",
    "\n",
    "データはcofidenceなら9105個並べれば良いらしい\n",
    "データはあくまで画面上のシフト量なので、VG内部で角速度に変換されることに注意"
   ]
  },
  {
   "cell_type": "code",
   "execution_count": 162,
   "metadata": {},
   "outputs": [],
   "source": [
    "#! /usr/bin/python3\n",
    "import json\n",
    "from collections import OrderedDict\n",
    "import pprint\n",
    "import os.path\n",
    "import datetime\n",
    "import cv2\n",
    "\n",
    "def countVideoFrames(video_path):\n",
    "    # 動画のフレーム数をカウント\n",
    "    cap = cv2.VideoCapture(video_path)\n",
    "    total_frame_count = int(cap.get(cv2.CAP_PROP_FRAME_COUNT))\n",
    "    return total_frame_count\n",
    "\n",
    "def getVideoFPS(video_path):\n",
    "    # 動画のフレーム数をカウント\n",
    "    cap = cv2.VideoCapture(video_path)\n",
    "    return cap.get(cv2.CAP_PROP_FPS)\n",
    "    \n",
    "\n",
    "def generateTestEstimatedData(length):\n",
    "    output_dict = OrderedDict()\n",
    "    output_dict[\"optical_flow\"] = list()\n",
    "    # for i in range(0,9104,1):\n",
    "\n",
    "    for i in range(0,length,1):\n",
    "        output_dict[\"optical_flow\"].append(0.0)\n",
    "        output_dict[\"optical_flow\"].append(i*0.001)\n",
    "        output_dict[\"optical_flow\"].append(0.0)\n",
    "        \n",
    "    output_dict['confidence'] = list()\n",
    "    for i in range(0,length,1):\n",
    "        output_dict[\"confidence\"].append(1)\n",
    "\n",
    "    \n",
    "    \n",
    "    return output_dict\n",
    "\n",
    "def videoToJson(video_path):\n",
    "    return os.path.dirname(video_path) +'/'+ os.path.splitext(os.path.basename(video_path))[0]+ '.json'\n",
    "\n",
    "def saveJson(filename, dict):\n",
    "    with open( filename,'w') as f:\n",
    "        json.dump(dict, f, indent=4)\n",
    "    return filename\n",
    "\n",
    "\n",
    "# test_data = generateTestData(91)\n",
    "# print(json.dumps(test_data))\n",
    "#     # filename = saveJson(test_data)\n",
    "\n",
    "#     # print('Finished: '+ filename)\n",
    "#     os.path.join()\n",
    "    \n",
    "\n",
    "\n",
    "\n"
   ]
  },
  {
   "cell_type": "markdown",
   "metadata": {},
   "source": [
    "setMeasuredAngularVelocityについて\n",
    "普段はrecords以下に入っているyyyy-mm-dd_hh.mm.ss.json\n",
    "中のデータは\n",
    "- frequency\n",
    "- angular_velocity_rad_per_sec\n",
    "の順。\n"
   ]
  },
  {
   "cell_type": "code",
   "execution_count": 163,
   "metadata": {},
   "outputs": [],
   "source": [
    "\n",
    "fy = 2937.489221417772\n",
    "fps = 23.976023976023978\n",
    "fps_gyro = 240.0"
   ]
  },
  {
   "cell_type": "code",
   "execution_count": 249,
   "metadata": {},
   "outputs": [],
   "source": [
    "import math\n",
    "def generateTestMeasuredData(length):\n",
    "    output_dict = OrderedDict()\n",
    "    output_dict[\"frequency\"] = 240.0\n",
    "\n",
    "\n",
    "    output_dict['angular_velocity_rad_per_sec'] = list()\n",
    "    for i in range(0,length,1):\n",
    "        output_dict[\"angular_velocity_rad_per_sec\"].append(0.0)\n",
    "        output_dict[\"angular_velocity_rad_per_sec\"].append(0.0)\n",
    "        output_dict[\"angular_velocity_rad_per_sec\"].append(-fps * math.atan(i/fps_gyro*fps*0.001/fy))\n",
    "    return output_dict"
   ]
  },
  {
   "cell_type": "code",
   "execution_count": 250,
   "metadata": {},
   "outputs": [
    {
     "name": "stdout",
     "output_type": "stream",
     "text": [
      "{\"frequency\": 240.0, \"angular_velocity_rad_per_sec\": [0.0, 0.0, -0.0, 0.0, 0.0, -8.153926737664569e-07, 0.0, 0.0, -1.6307853475329119e-06, 0.0, 0.0, -2.4461780212993632e-06, 0.0, 0.0, -3.2615706950658085e-06, 0.0, 0.0, -4.0769633688322465e-06, 0.0, 0.0, -4.892356042598676e-06, 0.0, 0.0, -5.707748716365094e-06, 0.0, 0.0, -6.523141390131496e-06, 0.0, 0.0, -7.338534063897885e-06, 0.0, 0.0, -8.153926737664258e-06, 0.0, 0.0, -8.969319411430612e-06, 0.0, 0.0, -9.784712085196943e-06, 0.0, 0.0, -1.0600104758963255e-05, 0.0, 0.0, -1.1415497432729539e-05, 0.0, 0.0, -1.2230890106495798e-05, 0.0, 0.0, -1.3046282780262028e-05, 0.0, 0.0, -1.386167545402823e-05, 0.0, 0.0, -1.4677068127794398e-05, 0.0, 0.0, -1.5492460801560534e-05, 0.0, 0.0, -1.6307853475326628e-05, 0.0, 0.0, -1.712324614909269e-05, 0.0, 0.0, -1.7938638822858714e-05, 0.0, 0.0, -1.8754031496624692e-05, 0.0, 0.0, -1.9569424170390627e-05, 0.0, 0.0, -2.038481684415652e-05, 0.0, 0.0, -2.1200209517922367e-05, 0.0, 0.0, -2.201560219168816e-05, 0.0, 0.0, -2.2830994865453904e-05, 0.0, 0.0, -2.364638753921959e-05, 0.0, 0.0, -2.446178021298523e-05, 0.0, 0.0, -2.5277172886750813e-05, 0.0, 0.0, -2.6092565560516327e-05, 0.0, 0.0, -2.6907958234281794e-05, 0.0, 0.0, -2.7723350908047186e-05, 0.0, 0.0, -2.853874358181253e-05, 0.0, 0.0, -2.9354136255577795e-05, 0.0, 0.0, -3.0169528929343e-05, 0.0, 0.0, -3.098492160310813e-05, 0.0, 0.0, -3.180031427687318e-05, 0.0, 0.0, -3.2615706950638165e-05, 0.0, 0.0, -3.3431099624403086e-05, 0.0, 0.0, -3.424649229816791e-05, 0.0, 0.0, -3.506188497193267e-05, 0.0, 0.0, -3.587727764569735e-05, 0.0, 0.0, -3.669267031946193e-05, 0.0, 0.0, -3.750806299322643e-05, 0.0, 0.0, -3.832345566699085e-05, 0.0, 0.0, -3.9138848340755185e-05, 0.0, 0.0, -3.9954241014519415e-05, 0.0, 0.0, -4.076963368828357e-05, 0.0, 0.0, -4.158502636204762e-05, 0.0, 0.0, -4.2400419035811584e-05, 0.0, 0.0, -4.3215811709575435e-05, 0.0, 0.0, -4.4031204383339184e-05, 0.0, 0.0, -4.484659705710285e-05, 0.0, 0.0, -4.5661989730866404e-05, 0.0, 0.0, -4.647738240462985e-05, 0.0, 0.0, -4.7292775078393184e-05, 0.0, 0.0, -4.8108167752156405e-05, 0.0, 0.0, -4.892356042591954e-05, 0.0, 0.0, -4.9738953099682534e-05, 0.0, 0.0, -5.0554345773445437e-05, 0.0, 0.0, -5.13697384472082e-05, 0.0, 0.0, -5.218513112097085e-05, 0.0, 0.0, -5.300052379473339e-05, 0.0, 0.0, -5.3815916468495805e-05, 0.0, 0.0, -5.46313091422581e-05, 0.0, 0.0, -5.544670181602025e-05, 0.0, 0.0, -5.6262094489782275e-05, 0.0, 0.0, -5.7077487163544195e-05, 0.0, 0.0, -5.7892879837305965e-05, 0.0, 0.0, -5.870827251106759e-05, 0.0, 0.0, -5.9523665184829086e-05, 0.0, 0.0, -6.0339057858590456e-05, 0.0, 0.0, -6.115445053235168e-05, 0.0, 0.0, -6.196984320611276e-05, 0.0, 0.0, -6.27852358798737e-05, 0.0, 0.0, -6.360062855363449e-05, 0.0, 0.0, -6.441602122739513e-05, 0.0, 0.0, -6.523141390115562e-05, 0.0, 0.0, -6.604680657491599e-05, 0.0, 0.0, -6.686219924867618e-05, 0.0, 0.0, -6.76775919224362e-05, 0.0, 0.0, -6.849298459619609e-05, 0.0, 0.0, -6.930837726995582e-05, 0.0, 0.0, -7.012376994371538e-05, 0.0, 0.0, -7.093916261747476e-05, 0.0, 0.0, -7.175455529123402e-05, 0.0, 0.0, -7.25699479649931e-05, 0.0, 0.0, -7.338534063875198e-05]}\n"
     ]
    }
   ],
   "source": [
    "print(json.dumps(generateTestMeasuredData(91)))"
   ]
  },
  {
   "cell_type": "markdown",
   "metadata": {},
   "source": [
    "VirtualGimbalにテストデータを流し込んで結果を見てみる"
   ]
  },
  {
   "cell_type": "markdown",
   "metadata": {},
   "source": [
    "まずはEstimated angular velocityのデータ"
   ]
  },
  {
   "cell_type": "code",
   "execution_count": 251,
   "metadata": {},
   "outputs": [
    {
     "name": "stdout",
     "output_type": "stream",
     "text": [
      "23.976023976023978\n"
     ]
    },
    {
     "data": {
      "text/plain": [
       "'/media/psf/Home/Dropbox/Mac/Documents/vgdataset/C0003.json'"
      ]
     },
     "execution_count": 251,
     "metadata": {},
     "output_type": "execute_result"
    }
   ],
   "source": [
    "video_path = '/media/psf/Home/Dropbox/Mac/Documents/vgdataset/C0003.MP4'\n",
    "video_frames = countVideoFrames(video_path)\n",
    "print(getVideoFPS(video_path))\n",
    "json_data = generateTestEstimatedData(video_frames)\n",
    "saveJson(videoToJson(video_path),json_data)"
   ]
  },
  {
   "cell_type": "markdown",
   "metadata": {},
   "source": [
    "次にMeasured angular velocityのデータ"
   ]
  },
  {
   "cell_type": "code",
   "execution_count": 252,
   "metadata": {},
   "outputs": [
    {
     "data": {
      "text/plain": [
       "'../build/records/test.json'"
      ]
     },
     "execution_count": 252,
     "metadata": {},
     "output_type": "execute_result"
    }
   ],
   "source": [
    "saveJson(\"../build/records/test.json\",generateTestMeasuredData(int((video_frames/fps + 6)*fps_gyro)))"
   ]
  },
  {
   "cell_type": "code",
   "execution_count": 253,
   "metadata": {},
   "outputs": [],
   "source": [
    "import numpy as np\n",
    "import json\n",
    "import subprocess\n"
   ]
  },
  {
   "cell_type": "code",
   "execution_count": null,
   "metadata": {},
   "outputs": [],
   "source": [
    "\n",
    "\n"
   ]
  },
  {
   "cell_type": "code",
   "execution_count": 254,
   "metadata": {},
   "outputs": [],
   "source": [
    "\n",
    "from cProfile import label\n",
    "import csv\n",
    "import matplotlib.pyplot as plt\n",
    "\n",
    "def openCSV(path):\n",
    "    with open(path, 'r') as f:\n",
    "        reader = csv.reader(f)\n",
    "        header = next(reader)  # ヘッダー行を読み飛ばし\n",
    "\n",
    "        data = []\n",
    "        for row in reader:\n",
    "            data.append(row)\n",
    "\n",
    "    legends = [i for i in header]\n",
    "    data = [[float(i) for i in row] for row in data]  # 文字列を数値に変換\n",
    "\n",
    "    # X軸に時間を、Y軸にデータをセット\n",
    "    eavf = [row[legends.index('Estimated angular velocity frame')] for row in data]\n",
    "    mavf = [row[legends.index('Measured angular velocity frame')] for row in data]\n",
    "    a = [row[legends.index('a-skew')] for row in data]\n",
    "    b = [row[legends.index('b-offset')] for row in data]\n",
    "    return eavf,mavf,a,b"
   ]
  },
  {
   "cell_type": "code",
   "execution_count": 255,
   "metadata": {},
   "outputs": [],
   "source": [
    "def plotSync(x,y,labelx,labely,title):\n",
    "    plt.figure(figsize=(10,6))\n",
    "    plt.plot(x,y,'bo-')\n",
    "    plt.xlabel(labelx)\n",
    "    plt.ylabel(labely)          \n",
    "    # plt.legend()\n",
    "    plt.title(title)\n",
    "    plt.grid()    \n",
    "    plt.show()"
   ]
  },
  {
   "cell_type": "code",
   "execution_count": 256,
   "metadata": {},
   "outputs": [],
   "source": [
    "def exec_vg_orig(path,record,offset=None):\n",
    "    if offset is None:\n",
    "        cmd = './pixelwise_stabilizer -i ' + path + ' -c ILCE-6500 -l SEL1670Z -j ' + record + ' -z 1.3 -n -a'\n",
    "    else:\n",
    "        cmd = './pixelwise_stabilizer -i ' + path + ' -c ILCE-6500 -l SEL1670Z -j ' + record + ' -z 1.3 -n -a -x frame_offset_' + format(offset,'1.4f') + '.json'\n",
    "    \n",
    "    res = None\n",
    "    try:\n",
    "        res = subprocess.check_call(cmd.split(),cwd=\"../build/\")\n",
    "    except:\n",
    "        print(\"Error.\")\n",
    "    print(res)\n",
    "\n"
   ]
  },
  {
   "cell_type": "code",
   "execution_count": 257,
   "metadata": {},
   "outputs": [],
   "source": [
    "test_data_path = '../build/records/test.json'"
   ]
  },
  {
   "cell_type": "code",
   "execution_count": 263,
   "metadata": {},
   "outputs": [
    {
     "name": "stdout",
     "output_type": "stream",
     "text": [
      "Error.\n",
      "None\n"
     ]
    },
    {
     "data": {
      "image/png": "[encoded data removed]",
      "text/plain": [
       "<Figure size 720x432 with 1 Axes>"
      ]
     },
     "metadata": {
      "needs_background": "light"
     },
     "output_type": "display_data"
    }
   ],
   "source": [
    "exec_vg_orig(video_path,test_data_path)\n",
    "\n",
    "eavf,mavf,a,b = openCSV('../build/latest_sync_table.csv')\n",
    "plotSync(eavf,mavf,'Estimated angular velocity frame []','Measured angular velocity frame []',\"/media/psf/Home/Dropbox/Mac/Documents/vgdataset/C0003.MP4\")"
   ]
  },
  {
   "cell_type": "markdown",
   "metadata": {},
   "source": [
    "リサンプリングされたデータ"
   ]
  },
  {
   "cell_type": "code",
   "execution_count": 259,
   "metadata": {},
   "outputs": [],
   "source": [
    "def plotLatestEstimatedAngularVelocity():\n",
    "    with open('../build/latest_estimated_angular_velocity.csv', 'r') as f:\n",
    "        reader = csv.reader(f)\n",
    "        header = next(reader)  # ヘッダー行を読み飛ばし\n",
    "\n",
    "        data = []\n",
    "        for row in reader:\n",
    "            data.append(row)\n",
    "\n",
    "    legends = [i for i in header]\n",
    "    data = [[float(i) for i in row] for row in data]  # 文字列を数値に変換\n",
    "\n",
    "    # X軸に時間を、Y軸にデータをセット\n",
    "    frame = [row[legends.index('Frame')] for row in data]\n",
    "    rx = [row[legends.index('rx')] for row in data]\n",
    "    ry = [row[legends.index('ry')] for row in data]\n",
    "    rz = [row[legends.index('rz')] for row in data]\n",
    "\n",
    "    plt.figure(figsize=(20,6))\n",
    "    plt.plot(frame,rx,label='rx')\n",
    "    plt.plot(frame,ry,label='ry')\n",
    "    plt.plot(frame,rz,label='rz')\n",
    "    plt.legend()\n",
    "    return frame,rx,ry,rz"
   ]
  },
  {
   "cell_type": "code",
   "execution_count": 260,
   "metadata": {},
   "outputs": [],
   "source": [
    "def plotLatestMeasuredAngularVelocityResampled():\n",
    "    with open('../build/latest_measured_angular_velocity_resampled.csv', 'r') as f:\n",
    "        reader = csv.reader(f)\n",
    "        header = next(reader)  # ヘッダー行を読み飛ばし\n",
    "\n",
    "        data = []\n",
    "        for row in reader:\n",
    "            data.append(row)\n",
    "\n",
    "    legends = [i for i in header]\n",
    "    data = [[float(i) for i in row] for row in data]  # 文字列を数値に変換\n",
    "\n",
    "    # X軸に時間を、Y軸にデータをセット\n",
    "    frame = [row[legends.index('Frame')] for row in data]\n",
    "    rx = [row[legends.index('x')] for row in data]\n",
    "    ry = [row[legends.index('y')] for row in data]\n",
    "    rz = [row[legends.index('z')] for row in data]\n",
    "\n",
    "    plt.figure(figsize=(20,6))\n",
    "    plt.plot(frame,rx,label='x')\n",
    "    plt.plot(frame,ry,label='y')\n",
    "    plt.plot(frame,rz,label='z')\n",
    "    plt.legend()\n",
    "    return frame,rx,ry,rz"
   ]
  },
  {
   "cell_type": "code",
   "execution_count": 261,
   "metadata": {},
   "outputs": [
    {
     "data": {
      "image/png": "[encoded data removed]",
      "text/plain": [
       "<Figure size 1440x432 with 1 Axes>"
      ]
     },
     "metadata": {
      "needs_background": "light"
     },
     "output_type": "display_data"
    }
   ],
   "source": [
    "frame,rx,ry,rz = plotLatestEstimatedAngularVelocity()\n"
   ]
  },
  {
   "cell_type": "code",
   "execution_count": 262,
   "metadata": {},
   "outputs": [
    {
     "data": {
      "image/png": "[encoded data removed]",
      "text/plain": [
       "<Figure size 1440x432 with 1 Axes>"
      ]
     },
     "metadata": {
      "needs_background": "light"
     },
     "output_type": "display_data"
    }
   ],
   "source": [
    "frame,rx,ry,rz = plotLatestMeasuredAngularVelocityResampled()"
   ]
  },
  {
   "cell_type": "code",
   "execution_count": 247,
   "metadata": {},
   "outputs": [
    {
     "data": {
      "text/plain": [
       "-0.008162"
      ]
     },
     "execution_count": 247,
     "metadata": {},
     "output_type": "execute_result"
    }
   ],
   "source": [
    "rx[1000]"
   ]
  },
  {
   "cell_type": "code",
   "execution_count": 248,
   "metadata": {},
   "outputs": [
    {
     "data": {
      "text/plain": [
       "-122.51899044351873"
      ]
     },
     "execution_count": 248,
     "metadata": {},
     "output_type": "execute_result"
    }
   ],
   "source": [
    "1./rx[1000]"
   ]
  },
  {
   "cell_type": "code",
   "execution_count": null,
   "metadata": {},
   "outputs": [],
   "source": []
  },
  {
   "cell_type": "code",
   "execution_count": null,
   "metadata": {},
   "outputs": [],
   "source": []
  },
  {
   "cell_type": "code",
   "execution_count": null,
   "metadata": {},
   "outputs": [],
   "source": []
  }
 ],
 "metadata": {
  "kernelspec": {
   "display_name": "Python 3.8.10 64-bit",
   "language": "python",
   "name": "python3"
  },
  "language_info": {
   "codemirror_mode": {
    "name": "ipython",
    "version": 3
   },
   "file_extension": ".py",
   "mimetype": "text/x-python",
   "name": "python",
   "nbconvert_exporter": "python",
   "pygments_lexer": "ipython3",
   "version": "3.8.10"
  },
  "orig_nbformat": 4,
  "vscode": {
   "interpreter": {
    "hash": "31f2aee4e71d21fbe5cf8b01ff0e069b9275f58929596ceb00d14d90e3e16cd6"
   }
  }
 },
 "nbformat": 4,
 "nbformat_minor": 2
}
